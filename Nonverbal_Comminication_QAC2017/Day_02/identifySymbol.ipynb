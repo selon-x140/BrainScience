{
 "cells": [
  {
   "cell_type": "markdown",
   "metadata": {},
   "source": [
    "# Day 2\n",
    "https://qiita.com/alfredplpl/items/be85a2f8233726d20f8e\n",
    "\n",
    "Keras\n",
    "https://keras.io\n",
    "\n",
    "## At First\n",
    "```bash\n",
    "# keras\n",
    "pip install keras\n",
    "# tensorflow (to use keras' backend)\n",
    "pip install tensorflow\n",
    "# save keras' model \n",
    "pip insstall h5py\n",
    "```\n"
   ]
  },
  {
   "cell_type": "markdown",
   "metadata": {},
   "source": [
    "## To identify numbers and clothes\n",
    "### Import"
   ]
  },
  {
   "cell_type": "code",
   "execution_count": 2,
   "metadata": {},
   "outputs": [
    {
     "name": "stderr",
     "output_type": "stream",
     "text": [
      "Using TensorFlow backend.\n",
      "/Users/masashi/.anyenv/envs/pyenv/versions/3.6.5/lib/python3.6/importlib/_bootstrap.py:219: RuntimeWarning: numpy.dtype size changed, may indicate binary incompatibility. Expected 96, got 88\n",
      "  return f(*args, **kwds)\n",
      "/Users/masashi/.anyenv/envs/pyenv/versions/3.6.5/lib/python3.6/importlib/_bootstrap.py:219: RuntimeWarning: numpy.dtype size changed, may indicate binary incompatibility. Expected 96, got 88\n",
      "  return f(*args, **kwds)\n"
     ]
    }
   ],
   "source": [
    "from keras.datasets import fashion_mnist, mnist\n",
    "from keras.applications import MobileNet\n",
    "import keras\n",
    "import numpy as np\n",
    "import cv2"
   ]
  },
  {
   "cell_type": "markdown",
   "metadata": {},
   "source": [
    "### Setting"
   ]
  },
  {
   "cell_type": "code",
   "execution_count": 3,
   "metadata": {},
   "outputs": [
    {
     "name": "stdout",
     "output_type": "stream",
     "text": [
      "Downloading data from http://fashion-mnist.s3-website.eu-central-1.amazonaws.com/train-labels-idx1-ubyte.gz\n",
      "32768/29515 [=================================] - 1s 25us/step\n",
      "Downloading data from http://fashion-mnist.s3-website.eu-central-1.amazonaws.com/train-images-idx3-ubyte.gz\n",
      "26427392/26421880 [==============================] - 171s 6us/step\n",
      "Downloading data from http://fashion-mnist.s3-website.eu-central-1.amazonaws.com/t10k-labels-idx1-ubyte.gz\n",
      "8192/5148 [===============================================] - 0s 0us/step\n",
      "Downloading data from http://fashion-mnist.s3-website.eu-central-1.amazonaws.com/t10k-images-idx3-ubyte.gz\n",
      "4423680/4422102 [==============================] - 34s 8us/step\n",
      "Downloading data from https://s3.amazonaws.com/img-datasets/mnist.npz\n",
      "11493376/11490434 [==============================] - 44s 4us/step\n"
     ]
    }
   ],
   "source": [
    "# load MobileNet\n",
    "classifier= MobileNet(input_shape=(48,48,3),weights=None,classes=20)\n",
    "classifier.compile(loss='categorical_crossentropy', optimizer=\"adam\",metrics=['accuracy'])\n",
    "\n",
    "# load dataset\n",
    "(x_trainf, y_trainf), (x_testf, y_testf) = fashion_mnist.load_data()\n",
    "(x_trainm, y_trainm), (x_testm, y_testm) = mnist.load_data()"
   ]
  },
  {
   "cell_type": "markdown",
   "metadata": {},
   "source": [
    "### preprocessing"
   ]
  },
  {
   "cell_type": "code",
   "execution_count": 4,
   "metadata": {},
   "outputs": [],
   "source": [
    "# image \n",
    "x_train=np.vstack((x_trainm,x_trainf))\n",
    "x_train=[cv2.cvtColor(x,cv2.COLOR_GRAY2RGB) for x in x_train]\n",
    "x_train = [cv2.resize(x, (48, 48), interpolation=cv2.INTER_NEAREST) for x in x_train]\n",
    "x_train=np.array(x_train)\n",
    "\n",
    "# 正解ラベルを整理\n",
    "y_trainf=[y+10 for y in y_trainf]\n",
    "y_train=np.hstack((y_trainm,y_trainf))\n",
    "y_train = keras.utils.to_categorical(y_train, 20)\n",
    "\n",
    "x_test=np.vstack((x_testm,x_testf))\n",
    "x_test=[cv2.cvtColor(x,cv2.COLOR_GRAY2RGB) for x in x_test]\n",
    "x_test = [cv2.resize(x, (48, 48), interpolation=cv2.INTER_NEAREST) for x in x_test]\n",
    "x_test=np.array(x_test)\n",
    "\n",
    "y_testf=[y+10 for y in y_testf]\n",
    "y_test=np.hstack((y_testm,y_testf))\n",
    "y_test = keras.utils.to_categorical(y_test, 20)"
   ]
  },
  {
   "cell_type": "markdown",
   "metadata": {},
   "source": [
    "### Training"
   ]
  },
  {
   "cell_type": "code",
   "execution_count": null,
   "metadata": {},
   "outputs": [],
   "source": [
    "# training model\n",
    "classifier.fit(x_train, y_train, epochs=20, batch_size=32,validation_data=(x_test, y_test))\n",
    "\n",
    "# save model\n",
    "classifier.save(\"./classifier.h5\")"
   ]
  }
 ],
 "metadata": {
  "kernelspec": {
   "display_name": "Python 3",
   "language": "python",
   "name": "python3"
  },
  "language_info": {
   "codemirror_mode": {
    "name": "ipython",
    "version": 3
   },
   "file_extension": ".py",
   "mimetype": "text/x-python",
   "name": "python",
   "nbconvert_exporter": "python",
   "pygments_lexer": "ipython3",
   "version": "3.6.5"
  }
 },
 "nbformat": 4,
 "nbformat_minor": 2
}
