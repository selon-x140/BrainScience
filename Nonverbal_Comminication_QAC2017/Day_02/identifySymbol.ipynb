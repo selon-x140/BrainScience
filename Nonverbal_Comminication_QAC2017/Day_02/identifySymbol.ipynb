{
 "cells": [
  {
   "cell_type": "markdown",
   "metadata": {},
   "source": [
    "# Day 2\n",
    "https://qiita.com/alfredplpl/items/be85a2f8233726d20f8e\n",
    "\n",
    "Keras\n",
    "https://keras.io\n",
    "\n",
    "## At First\n",
    "```bash\n",
    "# keras\n",
    "pip install keras\n",
    "# tensorflow (to use keras' backend) if use gpu: tensorflow-gpu\n",
    "pip install tensorflow\n",
    "# save keras' model \n",
    "pip insstall h5py\n",
    "```\n"
   ]
  },
  {
   "cell_type": "markdown",
   "metadata": {},
   "source": [
    "## To identify numbers and clothes\n",
    "### Import"
   ]
  },
  {
   "cell_type": "code",
   "execution_count": 1,
   "metadata": {},
   "outputs": [
    {
     "name": "stderr",
     "output_type": "stream",
     "text": [
      "/home/uemura/.anyenv/envs/pyenv/versions/3.6.5/lib/python3.6/site-packages/h5py/__init__.py:36: FutureWarning: Conversion of the second argument of issubdtype from `float` to `np.floating` is deprecated. In future, it will be treated as `np.float64 == np.dtype(float).type`.\n",
      "  from ._conv import register_converters as _register_converters\n",
      "Using TensorFlow backend.\n"
     ]
    }
   ],
   "source": [
    "from keras.datasets import fashion_mnist, mnist\n",
    "from keras.applications import MobileNet\n",
    "import keras\n",
    "import numpy as np\n",
    "import cv2"
   ]
  },
  {
   "cell_type": "markdown",
   "metadata": {},
   "source": [
    "### Setting"
   ]
  },
  {
   "cell_type": "markdown",
   "metadata": {},
   "source": [
    "#### GPU Setting\n",
    "if you gpu"
   ]
  },
  {
   "cell_type": "code",
   "execution_count": 2,
   "metadata": {},
   "outputs": [],
   "source": [
    "from keras import backend as K\n",
    "import tensorflow as tf\n",
    "\n",
    "# config\n",
    "config = tf.ConfigProto(allow_soft_placement=True)\n",
    "config.gpu_options.allow_growth = True\n",
    "config.gpu_options.visible_device_list=\"1\" # GPU number\n",
    "session = tf.Session(config=config)\n",
    "\n",
    "K.set_session(session)"
   ]
  },
  {
   "cell_type": "code",
   "execution_count": 3,
   "metadata": {},
   "outputs": [],
   "source": [
    "# load MobileNet\n",
    "classifier= MobileNet(input_shape=(48,48,3),weights=None,classes=20)\n",
    "classifier.compile(loss='categorical_crossentropy', optimizer=\"adam\",metrics=['accuracy'])\n",
    "\n",
    "# load dataset\n",
    "(x_trainf, y_trainf), (x_testf, y_testf) = fashion_mnist.load_data()\n",
    "(x_trainm, y_trainm), (x_testm, y_testm) = mnist.load_data()"
   ]
  },
  {
   "cell_type": "markdown",
   "metadata": {},
   "source": [
    "### preprocessing"
   ]
  },
  {
   "cell_type": "code",
   "execution_count": 4,
   "metadata": {},
   "outputs": [],
   "source": [
    "# image \n",
    "x_train=np.vstack((x_trainm,x_trainf))\n",
    "x_train=[cv2.cvtColor(x,cv2.COLOR_GRAY2RGB) for x in x_train]\n",
    "x_train = [cv2.resize(x, (48, 48), interpolation=cv2.INTER_NEAREST) for x in x_train]\n",
    "x_train=np.array(x_train)\n",
    "\n",
    "# 正解ラベルを整理\n",
    "y_trainf=[y+10 for y in y_trainf]\n",
    "y_train=np.hstack((y_trainm,y_trainf))\n",
    "y_train = keras.utils.to_categorical(y_train, 20)\n",
    "\n",
    "x_test=np.vstack((x_testm,x_testf))\n",
    "x_test=[cv2.cvtColor(x,cv2.COLOR_GRAY2RGB) for x in x_test]\n",
    "x_test = [cv2.resize(x, (48, 48), interpolation=cv2.INTER_NEAREST) for x in x_test]\n",
    "x_test=np.array(x_test)\n",
    "\n",
    "y_testf=[y+10 for y in y_testf]\n",
    "y_test=np.hstack((y_testm,y_testf))\n",
    "y_test = keras.utils.to_categorical(y_test, 20)"
   ]
  },
  {
   "cell_type": "markdown",
   "metadata": {},
   "source": [
    "### Training"
   ]
  },
  {
   "cell_type": "code",
   "execution_count": 5,
   "metadata": {},
   "outputs": [
    {
     "name": "stdout",
     "output_type": "stream",
     "text": [
      "Train on 120000 samples, validate on 20000 samples\n",
      "Epoch 1/20\n",
      "120000/120000 [==============================] - 49s 404us/step - loss: 0.7611 - acc: 0.7377 - val_loss: 2.0250 - val_acc: 0.5951\n",
      "Epoch 2/20\n",
      "120000/120000 [==============================] - 40s 334us/step - loss: 0.2552 - acc: 0.9103 - val_loss: 0.4950 - val_acc: 0.8583\n",
      "Epoch 3/20\n",
      "120000/120000 [==============================] - 40s 335us/step - loss: 0.1865 - acc: 0.9330 - val_loss: 0.3594 - val_acc: 0.8941\n",
      "Epoch 4/20\n",
      "120000/120000 [==============================] - 40s 337us/step - loss: 0.1526 - acc: 0.9443 - val_loss: 0.3150 - val_acc: 0.9028\n",
      "Epoch 5/20\n",
      "120000/120000 [==============================] - 40s 337us/step - loss: 0.1277 - acc: 0.9540 - val_loss: 0.3228 - val_acc: 0.9084\n",
      "Epoch 6/20\n",
      "120000/120000 [==============================] - 40s 336us/step - loss: 0.1171 - acc: 0.9574 - val_loss: 0.3374 - val_acc: 0.9072\n",
      "Epoch 7/20\n",
      "120000/120000 [==============================] - 40s 337us/step - loss: 0.1060 - acc: 0.9614 - val_loss: 0.3230 - val_acc: 0.9105\n",
      "Epoch 8/20\n",
      "120000/120000 [==============================] - 40s 336us/step - loss: 0.0923 - acc: 0.9661 - val_loss: 0.3233 - val_acc: 0.9130\n",
      "Epoch 9/20\n",
      "120000/120000 [==============================] - 40s 337us/step - loss: 0.0881 - acc: 0.9679 - val_loss: 0.2688 - val_acc: 0.9253\n",
      "Epoch 10/20\n",
      "120000/120000 [==============================] - 40s 337us/step - loss: 0.0753 - acc: 0.9723 - val_loss: 0.3003 - val_acc: 0.9204\n",
      "Epoch 11/20\n",
      "120000/120000 [==============================] - 41s 339us/step - loss: 0.0725 - acc: 0.9731 - val_loss: 0.2811 - val_acc: 0.9227\n",
      "Epoch 12/20\n",
      "120000/120000 [==============================] - 41s 338us/step - loss: 0.0684 - acc: 0.9753 - val_loss: 0.3390 - val_acc: 0.9190\n",
      "Epoch 13/20\n",
      "120000/120000 [==============================] - 40s 336us/step - loss: 0.0633 - acc: 0.9764 - val_loss: 0.2843 - val_acc: 0.9273\n",
      "Epoch 14/20\n",
      "120000/120000 [==============================] - 40s 332us/step - loss: 0.0557 - acc: 0.9799 - val_loss: 0.2593 - val_acc: 0.9336\n",
      "Epoch 15/20\n",
      "120000/120000 [==============================] - 40s 332us/step - loss: 0.0546 - acc: 0.9798 - val_loss: 0.2738 - val_acc: 0.9316\n",
      "Epoch 16/20\n",
      "120000/120000 [==============================] - 40s 330us/step - loss: 0.0542 - acc: 0.9801 - val_loss: 0.2726 - val_acc: 0.9315\n",
      "Epoch 17/20\n",
      "120000/120000 [==============================] - 40s 332us/step - loss: 0.0503 - acc: 0.9816 - val_loss: 0.3150 - val_acc: 0.9262\n",
      "Epoch 18/20\n",
      "120000/120000 [==============================] - 40s 334us/step - loss: 0.0427 - acc: 0.9846 - val_loss: 0.2777 - val_acc: 0.9297\n",
      "Epoch 19/20\n",
      "120000/120000 [==============================] - 40s 332us/step - loss: 0.0436 - acc: 0.9840 - val_loss: 0.2804 - val_acc: 0.9340\n",
      "Epoch 20/20\n",
      "120000/120000 [==============================] - 40s 332us/step - loss: 0.0413 - acc: 0.9847 - val_loss: 0.3089 - val_acc: 0.9285\n"
     ]
    }
   ],
   "source": [
    "# training model\n",
    "classifier.fit(x_train, y_train, epochs=20, batch_size=1000,validation_data=(x_test, y_test))\n",
    "\n",
    "# save model\n",
    "classifier.save(\"./classifier.h5\")"
   ]
  },
  {
   "cell_type": "markdown",
   "metadata": {},
   "source": [
    "### 精度\n",
    "トレーニングデータ  \n",
    "loss: 0.0413 - acc: 0.9847  \n",
    "テストデータ  \n",
    "val_loss: 0.3089 - val_acc: 0.9285  \n",
    "\n",
    "もっとちゃんとやれば精度上がりそう（小並感）"
   ]
  },
  {
   "cell_type": "code",
   "execution_count": null,
   "metadata": {},
   "outputs": [],
   "source": []
  }
 ],
 "metadata": {
  "kernelspec": {
   "display_name": "Python 3",
   "language": "python",
   "name": "python3"
  },
  "language_info": {
   "codemirror_mode": {
    "name": "ipython",
    "version": 3
   },
   "file_extension": ".py",
   "mimetype": "text/x-python",
   "name": "python",
   "nbconvert_exporter": "python",
   "pygments_lexer": "ipython3",
   "version": "3.6.5"
  }
 },
 "nbformat": 4,
 "nbformat_minor": 2
}
